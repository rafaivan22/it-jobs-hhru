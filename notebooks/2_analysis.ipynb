{
 "cells": [
  {
   "cell_type": "code",
   "execution_count": null,
   "id": "36981090",
   "metadata": {},
   "outputs": [],
   "source": [
    "import pandas as pd\n",
    "import matplotlib.pyplot as plt\n",
    "from collections import Counter"
   ]
  },
  {
   "cell_type": "code",
   "execution_count": null,
   "id": "37f8b8d7",
   "metadata": {},
   "outputs": [],
   "source": [
    "df = pd.read_csv('../data/clean_it_vacancies.csv')"
   ]
  },
  {
   "cell_type": "code",
   "execution_count": null,
   "id": "74c73cd2",
   "metadata": {},
   "outputs": [],
   "source": [
    "spec_salary = df.groupby('specialization')['salary_avg'].mean().sort_values(ascending=False)"
   ]
  },
  {
   "cell_type": "code",
   "execution_count": null,
   "id": "fc31fa15",
   "metadata": {},
   "outputs": [],
   "source": [
    "plt.figure(figsize=(12,6))\n",
    "spec_salary.plot(kind='bar', color='skyblue')\n",
    "plt.title('Средняя зарплата по специализациям')\n",
    "plt.grid(True)\n",
    "plt.show()"
   ]
  },
  {
   "cell_type": "code",
   "execution_count": null,
   "id": "b9688370",
   "metadata": {},
   "outputs": [],
   "source": [
    "top_cities = df['area'].value_counts().head(10).index\n",
    "city_salary = df[df['area'].isin(top_cities)].groupby('area')['salary_avg'].mean().sort_values(ascending=False)"
   ]
  },
  {
   "cell_type": "code",
   "execution_count": null,
   "id": "e5090fc4",
   "metadata": {},
   "outputs": [],
   "source": [
    "plt.figure(figsize=(12,6))\n",
    "city_salary.plot(kind='bar', color='orange')\n",
    "plt.title('Средняя зарплата по городам')\n",
    "plt.grid(True)\n",
    "plt.show()"
   ]
  },
  {
   "cell_type": "code",
   "execution_count": null,
   "id": "7935acd6",
   "metadata": {},
   "outputs": [],
   "source": [
    "skills = []\n",
    "for s in df.dropna(subset=['key_skills'])['key_skills']:\n",
    "    skills += [x.strip() for x in s.split(',') if x.strip()]"
   ]
  },
  {
   "cell_type": "code",
   "execution_count": null,
   "id": "b20d1d75",
   "metadata": {},
   "outputs": [],
   "source": [
    "skill_counts = Counter(skills).most_common(20)\n",
    "skills_df = pd.DataFrame(skill_counts, columns=['Навык', 'Частота'])\n",
    "print(skills_df)"
   ]
  }
 ],
 "metadata": {},
 "nbformat": 4,
 "nbformat_minor": 5
}
