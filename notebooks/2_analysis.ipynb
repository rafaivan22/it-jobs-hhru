{
  "cells": [
    {
      "cell_type": "markdown",
      "metadata": {},
      "source": [
        "# Analysis\\n\\n"
      ]
    },
    {
      "cell_type": "code",
      "metadata": {},
      "source": [
        "import pandas as pd\n"
      ]
    },
    {
      "cell_type": "code",
      "metadata": {},
      "source": [
        "from analysis import salary_distribution, top_cities, load_data\n"
      ]
    },
    {
      "cell_type": "code",
      "metadata": {},
      "source": [
        "df = load_data()\n"
      ]
    },
    {
      "cell_type": "code",
      "metadata": {},
      "source": [
        "salary_distribution(df)\n"
      ]
    },
    {
      "cell_type": "code",
      "metadata": {},
      "source": [
        "print(top_cities(df))\n"
      ]
    }
  ],
  "metadata": {
    "kernelspec": {
      "display_name": "Python 3",
      "language": "python",
      "name": "python3"
    },
    "language_info": {
      "name": "python"
    }
  },
  "nbformat": 4,
  "nbformat_minor": 2
}