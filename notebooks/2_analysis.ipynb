{
 "cells": [
  {
   "cell_type": "code",
   "execution_count": null,
   "id": "d3f2788c",
   "metadata": {},
   "outputs": [],
   "source": [
    "import pandas as pd\n",
    "import matplotlib.pyplot as plt\n",
    "from collections import Counter"
   ]
  },
  {
   "cell_type": "code",
   "execution_count": null,
   "id": "0b2442b7",
   "metadata": {},
   "outputs": [],
   "source": [
    "df = pd.read_csv('../data/clean_it_vacancies.csv')"
   ]
  },
  {
   "cell_type": "code",
   "execution_count": null,
   "id": "cd207bf8",
   "metadata": {},
   "outputs": [],
   "source": [
    "spec_salary = df.groupby('specialization')['salary_avg'].mean().sort_values(ascending=False)"
   ]
  },
  {
   "cell_type": "code",
   "execution_count": null,
   "id": "20aac188",
   "metadata": {},
   "outputs": [],
   "source": [
    "spec_salary.plot(kind='bar', figsize=(10,5), title='Средняя зарплата по направлениям')\n",
    "plt.xticks(rotation=45)\n",
    "plt.grid(True)\n",
    "plt.show()"
   ]
  },
  {
   "cell_type": "code",
   "execution_count": null,
   "id": "f2def77a",
   "metadata": {},
   "outputs": [],
   "source": [
    "top_cities = df['area'].value_counts().head(10).index\n",
    "city_salary = df[df['area'].isin(top_cities)].groupby('area')['salary_avg'].mean().sort_values(ascending=False)"
   ]
  },
  {
   "cell_type": "code",
   "execution_count": null,
   "id": "67213397",
   "metadata": {},
   "outputs": [],
   "source": [
    "city_salary.plot(kind='bar', figsize=(10,5), title='Средняя зарплата по городам')\n",
    "plt.xticks(rotation=45)\n",
    "plt.grid(True)\n",
    "plt.show()"
   ]
  },
  {
   "cell_type": "code",
   "execution_count": null,
   "id": "654b715e",
   "metadata": {},
   "outputs": [],
   "source": [
    "skills = []\n",
    "for s in df.dropna(subset=['key_skills'])['key_skills']:\n",
    "    skills += [x.strip() for x in s.split(',') if x.strip()]"
   ]
  },
  {
   "cell_type": "code",
   "execution_count": null,
   "id": "e36130d8",
   "metadata": {},
   "outputs": [],
   "source": [
    "Counter(skills).most_common(20)"
   ]
  }
 ],
 "metadata": {},
 "nbformat": 4,
 "nbformat_minor": 5
}
