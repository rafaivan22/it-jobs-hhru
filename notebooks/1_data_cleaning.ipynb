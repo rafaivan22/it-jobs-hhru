{
 "cells": [
  {
   "cell_type": "code",
   "execution_count": null,
   "id": "56d1473b",
   "metadata": {},
   "outputs": [],
   "source": [
    "import pandas as pd\n",
    "import matplotlib.pyplot as plt\n",
    "import seaborn as sns"
   ]
  },
  {
   "cell_type": "code",
   "execution_count": null,
   "id": "deee9774",
   "metadata": {},
   "outputs": [],
   "source": [
    "df = pd.read_csv('../data/it_vacancies_full.csv')\n",
    "df.head()"
   ]
  },
  {
   "cell_type": "code",
   "execution_count": null,
   "id": "4c2bf052",
   "metadata": {},
   "outputs": [],
   "source": [
    "df.info()"
   ]
  },
  {
   "cell_type": "code",
   "execution_count": null,
   "id": "b561edaf",
   "metadata": {},
   "outputs": [],
   "source": [
    "print('Пропуски:')\n",
    "print(df.isnull().sum())"
   ]
  },
  {
   "cell_type": "code",
   "execution_count": null,
   "id": "0f84de48",
   "metadata": {},
   "outputs": [],
   "source": [
    "print('Уникальные значения:')\n",
    "print(df.nunique())"
   ]
  },
  {
   "cell_type": "code",
   "execution_count": null,
   "id": "67c3add7",
   "metadata": {},
   "outputs": [],
   "source": [
    "print('Распределение по специализациям:')\n",
    "print(df['specialization'].value_counts())"
   ]
  },
  {
   "cell_type": "code",
   "execution_count": null,
   "id": "60fe3e93",
   "metadata": {},
   "outputs": [],
   "source": [
    "df = df.dropna(subset=['salary_from', 'salary_to'])\n",
    "df = df[df['currency'] == 'RUR']\n",
    "df['salary_avg'] = (df['salary_from'] + df['salary_to']) / 2"
   ]
  },
  {
   "cell_type": "code",
   "execution_count": null,
   "id": "cb197ab5",
   "metadata": {},
   "outputs": [],
   "source": [
    "plt.figure(figsize=(10,5))\n",
    "sns.histplot(df['salary_avg'], bins=40, kde=True)\n",
    "plt.title('Распределение зарплат')\n",
    "plt.grid(True)\n",
    "plt.show()"
   ]
  },
  {
   "cell_type": "code",
   "execution_count": null,
   "id": "8204f55b",
   "metadata": {},
   "outputs": [],
   "source": [
    "print('Выбросы (зарплаты > 1 млн):')\n",
    "print(df[df['salary_avg'] > 1_000_000])"
   ]
  },
  {
   "cell_type": "code",
   "execution_count": null,
   "id": "9dd79966",
   "metadata": {},
   "outputs": [],
   "source": [
    "df.to_csv('../data/clean_it_vacancies.csv', index=False)"
   ]
  }
 ],
 "metadata": {},
 "nbformat": 4,
 "nbformat_minor": 5
}
