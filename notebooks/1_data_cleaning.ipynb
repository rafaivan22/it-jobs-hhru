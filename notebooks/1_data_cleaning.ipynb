{
  "cells": [
    {
      "cell_type": "markdown",
      "metadata": {},
      "source": [
        "# Data Cleaning\n"
      ]
    },
    {
      "cell_type": "code",
      "metadata": {},
      "source": [
        "from scripts.scrape_vacancies import fetch_vacancies, load_config\n"
      ]
    },
    {
      "cell_type": "code",
      "metadata": {},
      "source": [
        "from data_processing import clean_data, load_raw\n"
      ]
    },
    {
      "cell_type": "code",
      "metadata": {},
      "source": [
        "cfg = load_config()\n"
      ]
    },
    {
      "cell_type": "code",
      "metadata": {},
      "source": [
        "raw = load_raw('data/raw/vacancies.json')\n"
      ]
    },
    {
      "cell_type": "code",
      "metadata": {},
      "source": [
        "df_clean = clean_data(raw)\n"
      ]
    },
    {
      "cell_type": "code",
      "metadata": {},
      "source": [
        "df_clean.head()\n"
      ]
    }
  ],
  "metadata": {
    "kernelspec": {
      "display_name": "Python 3",
      "language": "python",
      "name": "python3"
    },
    "language_info": {
      "name": "python"
    }
  },
  "nbformat": 4,
  "nbformat_minor": 2
}