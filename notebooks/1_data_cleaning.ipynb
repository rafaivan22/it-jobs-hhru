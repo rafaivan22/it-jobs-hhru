{
 "cells": [
  {
   "cell_type": "code",
   "execution_count": null,
   "id": "00477c3f",
   "metadata": {},
   "outputs": [],
   "source": [
    "import pandas as pd\n",
    "import matplotlib.pyplot as plt\n",
    "import seaborn as sns"
   ]
  },
  {
   "cell_type": "code",
   "execution_count": null,
   "id": "f176b764",
   "metadata": {},
   "outputs": [],
   "source": [
    "df = pd.read_csv('../data/it_vacancies_full.csv')\n",
    "df.head()"
   ]
  },
  {
   "cell_type": "code",
   "execution_count": null,
   "id": "f41ad362",
   "metadata": {},
   "outputs": [],
   "source": [
    "df.info()"
   ]
  },
  {
   "cell_type": "code",
   "execution_count": null,
   "id": "03dfa8e4",
   "metadata": {},
   "outputs": [],
   "source": [
    "df.isnull().sum()"
   ]
  },
  {
   "cell_type": "code",
   "execution_count": null,
   "id": "c2f9c4b5",
   "metadata": {},
   "outputs": [],
   "source": [
    "df.nunique()"
   ]
  },
  {
   "cell_type": "code",
   "execution_count": null,
   "id": "c63a2a4d",
   "metadata": {},
   "outputs": [],
   "source": [
    "df['specialization'].value_counts()"
   ]
  },
  {
   "cell_type": "code",
   "execution_count": null,
   "id": "78afb153",
   "metadata": {},
   "outputs": [],
   "source": [
    "df = df.dropna(subset=['salary_from', 'salary_to'])\n",
    "df = df[df['currency'] == 'RUR']\n",
    "df['salary_avg'] = (df['salary_from'] + df['salary_to']) / 2"
   ]
  },
  {
   "cell_type": "code",
   "execution_count": null,
   "id": "98631dcc",
   "metadata": {},
   "outputs": [],
   "source": [
    "plt.figure(figsize=(10,5))\n",
    "sns.histplot(df['salary_avg'], bins=40, kde=True)\n",
    "plt.grid(True)\n",
    "plt.show()"
   ]
  },
  {
   "cell_type": "code",
   "execution_count": null,
   "id": "b54f24ff",
   "metadata": {},
   "outputs": [],
   "source": [
    "df.to_csv('../data/clean_it_vacancies.csv', index=False)"
   ]
  }
 ],
 "metadata": {},
 "nbformat": 4,
 "nbformat_minor": 5
}
