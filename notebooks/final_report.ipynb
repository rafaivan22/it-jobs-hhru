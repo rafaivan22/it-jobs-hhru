{
  "cells": [
    {
      "cell_type": "markdown",
      "metadata": {},
      "source": [
        "# Final Report\\n",
        "\\n",
        "В этом ноутбуке представлены итоги и выводы анализа рынка труда IT на основе данных HeadHunter."
      ]
    }
  ],
  "metadata": {
    "kernelspec": {
      "display_name": "Python 3",
      "language": "python",
      "name": "python3"
    },
    "language_info": {
      "name": "python"
    }
  },
  "nbformat": 4,
  "nbformat_minor": 5
}