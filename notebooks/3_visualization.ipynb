{
  "cells": [
    {
      "cell_type": "markdown",
      "metadata": {},
      "source": [
        "# Visualization\\n\\n"
      ]
    },
    {
      "cell_type": "code",
      "metadata": {},
      "source": [
        "import matplotlib.pyplot as plt\n"
      ]
    },
    {
      "cell_type": "code",
      "metadata": {},
      "source": [
        "from analysis import load_data\n"
      ]
    },
    {
      "cell_type": "code",
      "metadata": {},
      "source": [
        "df = load_data()\n"
      ]
    },
    {
      "cell_type": "code",
      "metadata": {},
      "source": [
        "df['salary_mean'] = (df['salary_from'] + df['salary_to']) / 2\n"
      ]
    },
    {
      "cell_type": "code",
      "metadata": {},
      "source": [
        "df['salary_mean'].hist()\n"
      ]
    },
    {
      "cell_type": "code",
      "metadata": {},
      "source": [
        "plt.show()\n"
      ]
    }
  ],
  "metadata": {
    "kernelspec": {
      "display_name": "Python 3",
      "language": "python",
      "name": "python3"
    },
    "language_info": {
      "name": "python"
    }
  },
  "nbformat": 4,
  "nbformat_minor": 2
}