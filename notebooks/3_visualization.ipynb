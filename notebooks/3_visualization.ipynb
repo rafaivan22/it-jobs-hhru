{
 "cells": [
  {
   "cell_type": "code",
   "execution_count": null,
   "id": "bdd2c220",
   "metadata": {},
   "outputs": [],
   "source": [
    "import pandas as pd\n",
    "import matplotlib.pyplot as plt\n",
    "import seaborn as sns\n",
    "from wordcloud import WordCloud\n",
    "from collections import Counter"
   ]
  },
  {
   "cell_type": "code",
   "execution_count": null,
   "id": "89478adb",
   "metadata": {},
   "outputs": [],
   "source": [
    "df = pd.read_csv('../data/clean_it_vacancies.csv')"
   ]
  },
  {
   "cell_type": "code",
   "execution_count": null,
   "id": "402cba26",
   "metadata": {},
   "outputs": [],
   "source": [
    "spec_salary = df.groupby('specialization')['salary_avg'].mean().sort_values(ascending=False)"
   ]
  },
  {
   "cell_type": "code",
   "execution_count": null,
   "id": "b5d64542",
   "metadata": {},
   "outputs": [],
   "source": [
    "plt.figure(figsize=(12,6))\n",
    "spec_salary.plot(kind='bar', color='mediumseagreen')\n",
    "plt.title('Средняя зарплата по направлениям')\n",
    "plt.grid(True)\n",
    "plt.show()"
   ]
  },
  {
   "cell_type": "code",
   "execution_count": null,
   "id": "c08d0eb0",
   "metadata": {},
   "outputs": [],
   "source": [
    "skills = []\n",
    "for s in df.dropna(subset=['key_skills'])['key_skills']:\n",
    "    skills += [x.strip() for x in s.split(',') if x.strip()]"
   ]
  },
  {
   "cell_type": "code",
   "execution_count": null,
   "id": "2fc70ef9",
   "metadata": {},
   "outputs": [],
   "source": [
    "skill_counts = Counter(skills).most_common(20)\n",
    "skills_df = pd.DataFrame(skill_counts, columns=['Навык', 'Частота'])"
   ]
  },
  {
   "cell_type": "code",
   "execution_count": null,
   "id": "2af1000f",
   "metadata": {},
   "outputs": [],
   "source": [
    "plt.figure(figsize=(12,6))\n",
    "sns.barplot(data=skills_df, x='Навык', y='Частота')\n",
    "plt.xticks(rotation=45)\n",
    "plt.title('Топ-20 востребованных навыков')\n",
    "plt.grid(True)\n",
    "plt.show()"
   ]
  },
  {
   "cell_type": "code",
   "execution_count": null,
   "id": "19c40aa5",
   "metadata": {},
   "outputs": [],
   "source": [
    "wordcloud = WordCloud(width=800, height=400, background_color='white').generate(' '.join(skills))\n",
    "plt.figure(figsize=(14, 6))\n",
    "plt.imshow(wordcloud, interpolation='bilinear')\n",
    "plt.axis('off')\n",
    "plt.title('Облако навыков')\n",
    "plt.show()"
   ]
  }
 ],
 "metadata": {},
 "nbformat": 4,
 "nbformat_minor": 5
}
