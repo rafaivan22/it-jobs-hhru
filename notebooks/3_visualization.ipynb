{
 "cells": [
  {
   "cell_type": "code",
   "execution_count": null,
   "id": "54c6d832",
   "metadata": {},
   "outputs": [],
   "source": [
    "import pandas as pd\n",
    "import matplotlib.pyplot as plt\n",
    "import seaborn as sns\n",
    "from collections import Counter\n",
    "from wordcloud import WordCloud"
   ]
  },
  {
   "cell_type": "code",
   "execution_count": null,
   "id": "932ccd6c",
   "metadata": {},
   "outputs": [],
   "source": [
    "df = pd.read_csv('../data/clean_it_vacancies.csv')"
   ]
  },
  {
   "cell_type": "code",
   "execution_count": null,
   "id": "2f07a3a3",
   "metadata": {},
   "outputs": [],
   "source": [
    "spec_salary = df.groupby('specialization')['salary_avg'].mean().sort_values(ascending=False)"
   ]
  },
  {
   "cell_type": "code",
   "execution_count": null,
   "id": "c8abfc90",
   "metadata": {},
   "outputs": [],
   "source": [
    "spec_salary.plot(kind='bar', figsize=(10,5), title='Зарплата по направлениям')\n",
    "plt.xticks(rotation=45)\n",
    "plt.grid(True)\n",
    "plt.show()"
   ]
  },
  {
   "cell_type": "code",
   "execution_count": null,
   "id": "60861726",
   "metadata": {},
   "outputs": [],
   "source": [
    "skills = []\n",
    "for s in df.dropna(subset=['key_skills'])['key_skills']:\n",
    "    skills += [x.strip() for x in s.split(',') if x.strip()]"
   ]
  },
  {
   "cell_type": "code",
   "execution_count": null,
   "id": "51d44f57",
   "metadata": {},
   "outputs": [],
   "source": [
    "wc = WordCloud(width=800, height=400, background_color='white').generate(' '.join(skills))\n",
    "plt.imshow(wc)\n",
    "plt.axis('off')\n",
    "plt.show()"
   ]
  }
 ],
 "metadata": {},
 "nbformat": 4,
 "nbformat_minor": 5
}

# 📈 Обновление для истории коммита: визуализация и облако слов
